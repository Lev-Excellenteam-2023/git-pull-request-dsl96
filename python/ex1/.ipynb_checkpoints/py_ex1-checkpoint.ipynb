{
 "cells": [
  {
   "cell_type": "code",
   "execution_count": 9,
   "id": "9b60d5bc",
   "metadata": {},
   "outputs": [],
   "source": [
    " import os"
   ]
  },
  {
   "cell_type": "code",
   "execution_count": 44,
   "id": "72686ee4",
   "metadata": {},
   "outputs": [],
   "source": [
    "#week 6 ex3 שטוחלנדיה \n",
    "def find_special_state(path = None):\n",
    "    \n",
    "     if not path:\n",
    "        path = os.path.join(os.getcwd() ,'resource','states.txt')\n",
    "        \n",
    "     states = open( path,'r').read().split()\n",
    "    \n",
    "    \n",
    "     def check_if_string_in_one_line_keyboard(string):\n",
    "            string_set = set(string.lower())\n",
    "            \n",
    "            line1 = {'e', 'i', 'o', 'p', 'q', 'r', 't', 'u', 'w', 'y'}\n",
    "            line2 = {'a', 'd', 'f', 'g', 'h', 'j', 'k', 'l', 's'}\n",
    "            line3 = {'b', 'c', 'm', 'n', 'v', 'x', 'z'}\n",
    "            \n",
    "            return  string_set <= line1 or string_set <= line2 or  string_set <= line3 \n",
    "     \n",
    "     return [ state for state in states if check_if_string_in_one_line_keyboard(state) ]\n",
    "\n",
    " "
   ]
  },
  {
   "cell_type": "code",
   "execution_count": 43,
   "id": "c5e81136",
   "metadata": {},
   "outputs": [
    {
     "data": {
      "text/plain": [
       "['alaska']"
      ]
     },
     "execution_count": 43,
     "metadata": {},
     "output_type": "execute_result"
    }
   ],
   "source": [
    " "
   ]
  },
  {
   "cell_type": "code",
   "execution_count": 41,
   "id": "e4dec011",
   "metadata": {},
   "outputs": [
    {
     "data": {
      "text/plain": [
       "False"
      ]
     },
     "execution_count": 41,
     "metadata": {},
     "output_type": "execute_result"
    }
   ],
   "source": [
    " "
   ]
  }
 ],
 "metadata": {
  "kernelspec": {
   "display_name": "Python 3 (ipykernel)",
   "language": "python",
   "name": "python3"
  },
  "language_info": {
   "codemirror_mode": {
    "name": "ipython",
    "version": 3
   },
   "file_extension": ".py",
   "mimetype": "text/x-python",
   "name": "python",
   "nbconvert_exporter": "python",
   "pygments_lexer": "ipython3",
   "version": "3.9.7"
  }
 },
 "nbformat": 4,
 "nbformat_minor": 5
}
