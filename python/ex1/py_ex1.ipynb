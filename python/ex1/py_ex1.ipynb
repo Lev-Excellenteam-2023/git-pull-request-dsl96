{
 "cells": [
  {
   "cell_type": "code",
   "execution_count": null,
   "id": "4d046a9a",
   "metadata": {},
   "outputs": [],
   "source": []
  },
  {
   "cell_type": "code",
   "execution_count": 1,
   "id": "d465de66",
   "metadata": {},
   "outputs": [],
   "source": [
    "import os\n",
    "import numpy as np\n",
    "from PIL import Image"
   ]
  },
  {
   "cell_type": "code",
   "execution_count": 12,
   "id": "fc4c82d1",
   "metadata": {},
   "outputs": [],
   "source": [
    "#week 6 ex3 שטוחלנדיה \n",
    "def find_special_state(path = None):\n",
    "    \n",
    "     if not path:\n",
    "        path = os.path.join(os.getcwd() ,'resource','states.txt')\n",
    "        \n",
    "     states = open( path,'r').read().split()\n",
    "    \n",
    "    \n",
    "     def check_if_string_in_one_line_keyboard(string):\n",
    "            string_set = set(string.lower())\n",
    "            \n",
    "            line1 = {'e', 'i', 'o', 'p', 'q', 'r', 't', 'u', 'w', 'y'}\n",
    "            line2 = {'a', 'd', 'f', 'g', 'h', 'j', 'k', 'l', 's'}\n",
    "            line3 = {'b', 'c', 'm', 'n', 'v', 'x', 'z'}\n",
    "            \n",
    "            return  string_set <= line1 or string_set <= line2 or  string_set <= line3 \n",
    "     \n",
    "     return [state for state in states if check_if_string_in_one_line_keyboard(state)]\n",
    "\n",
    " "
   ]
  },
  {
   "cell_type": "code",
   "execution_count": 13,
   "id": "c201c158",
   "metadata": {},
   "outputs": [
    {
     "data": {
      "text/plain": [
       "['alaska']"
      ]
     },
     "execution_count": 13,
     "metadata": {},
     "output_type": "execute_result"
    }
   ],
   "source": [
    " find_special_state()"
   ]
  },
  {
   "cell_type": "code",
   "execution_count": 3,
   "id": "1bddd162",
   "metadata": {},
   "outputs": [],
   "source": [
    "# 6.4 זכרו זכרו\n",
    "\n",
    "def decode_img(path = None):\n",
    "    \n",
    "    if not path:\n",
    "        path = os.path.join(os.getcwd() ,'resource','code.png')\n",
    "    \n",
    "    np_img_trans = np.array(Image.open(path)).transpose()\n",
    "    \n",
    "    ans = []\n",
    "    for row in np_img_trans:\n",
    "        if 1 in row:\n",
    "            ans.append(chr( np.where(row == 1)[0][0]))\n",
    "            \n",
    "            \n",
    "    return ''.join(ans)  \n",
    "\n",
    "#'Place gunpowder beneath the House of Lords. 11/05/1605'"
   ]
  },
  {
   "cell_type": "code",
   "execution_count": 4,
   "id": "d85e28a7",
   "metadata": {},
   "outputs": [
    {
     "data": {
      "text/plain": [
       "'Place gunpowder beneath the House of Lords. 11/05/1605'"
      ]
     },
     "execution_count": 4,
     "metadata": {},
     "output_type": "execute_result"
    }
   ],
   "source": [
    "decode_img()"
   ]
  },
  {
   "cell_type": "code",
   "execution_count": 5,
   "id": "0f1a9f3a",
   "metadata": {},
   "outputs": [],
   "source": [
    "#group_by 6.5.1\n",
    "from collections import defaultdict\n",
    "\n",
    "def group_by(func, lst):\n",
    "    d = defaultdict(list)\n",
    "    \n",
    "    for item in lst:\n",
    "        d[func(item)].append(item)\n",
    "        \n",
    "    return d\n",
    "    \n",
    "    "
   ]
  },
  {
   "cell_type": "code",
   "execution_count": 6,
   "id": "9ad5c234",
   "metadata": {},
   "outputs": [],
   "source": [
    "# week 5 כלים שלובים \n",
    "def interleave(*iterables):\n",
    "    return list( np.array( list(zip(*iterables)) ).flatten())\n",
    "    \n",
    "    "
   ]
  },
  {
   "cell_type": "code",
   "execution_count": 2,
   "id": "c90b60c5",
   "metadata": {},
   "outputs": [],
   "source": [
    "import pip\n",
    "def import_or_install(package):\n",
    "    try:\n",
    "        __import__(package)\n",
    "    except ImportError:\n",
    "        !pip install bs4   \n",
    " "
   ]
  },
  {
   "cell_type": "code",
   "execution_count": 9,
   "id": "2c1075aa",
   "metadata": {},
   "outputs": [],
   "source": [
    "#הארי רציונלי אבל לא נורא \n",
    "\n",
    "# install if not exist \"bs4\" need for html parser\n",
    "import_or_install( 'bs4')\n",
    "from bs4 import BeautifulSoup\n",
    "import re\n",
    "import os\n",
    "\n",
    "def change_name_Potter(directory = None):\n",
    "    \n",
    "    if directory == None:\n",
    "        directory = os.path.join(os.getcwd() ,'resource','potter')\n",
    "        \n",
    "    # iterate over files in\n",
    "    # that directory\n",
    "    for filename in os.scandir(directory):\n",
    "        if filename.is_file():            \n",
    "            new_name = get_name_from_Potter(filename.path)\n",
    "                \n",
    "            os.rename(filename.path, os.path.join(directory,new_name))\n",
    "    \n",
    "#get name from  of harry potter chapter from title\n",
    "def get_name_from_Potter(path):\n",
    "       \n",
    "    potter_chapter = open( path,'r',encoding=\"utf8\").read()\n",
    "    \n",
    "    soup = BeautifulSoup(potter_chapter , 'html.parser')\n",
    "    \n",
    "    #title of chapter\n",
    "    title =  soup.find('title').get_text()\n",
    " \n",
    "    #mach the chapter number and chapter name\n",
    "    result = re.search(r\"([0-9]*): *(.*)\", title)\n",
    " \n",
    "    #Hack replace :->.  \":\" cant be in file name\n",
    "    return (result.group(1).zfill(3) + \" \" +result.group(2) +\".html\").replace(\":\", \".\")\n",
    "     "
   ]
  },
  {
   "cell_type": "code",
   "execution_count": 10,
   "id": "e2601c3b",
   "metadata": {},
   "outputs": [],
   "source": [
    " change_name_Potter()"
   ]
  },
  {
   "cell_type": "code",
   "execution_count": null,
   "id": "d30b47e1",
   "metadata": {},
   "outputs": [],
   "source": [
    " "
   ]
  },
  {
   "cell_type": "code",
   "execution_count": null,
   "id": "a89af3c6",
   "metadata": {},
   "outputs": [],
   "source": [
    "# מנה מושלמת לחלוקה   \n",
    "import math\n",
    "def is_perfect_num(num):\n",
    "    _sqrt = math.sqrt(num)\n",
    "  \n",
    "    sum_dividers = 0\n",
    "    \n",
    "    for i in range(2,math.ceil(_sqrt)):\n",
    "         if num % i == 0:\n",
    "                sum_dividers = sum_dividers + i + num/i\n",
    "         \n",
    "                \n",
    "    if _sqrt == int(_sqrt):\n",
    "         sum_dividers = sum_dividers + _sqrt\n",
    "    \n",
    "                \n",
    "                \n",
    "    \n",
    "    return sum_dividers+1 == num\n",
    " \n",
    "    \n",
    "def perfect_number_generator():\n",
    "    \n",
    "    num = 1\n",
    "    \n",
    "    while True:\n",
    "        if is_perfect_num(num):\n",
    "            yield num\n",
    "        num = num+1\n"
   ]
  },
  {
   "cell_type": "code",
   "execution_count": null,
   "id": "c79bcfd2",
   "metadata": {},
   "outputs": [],
   "source": [
    " "
   ]
  },
  {
   "cell_type": "code",
   "execution_count": null,
   "id": "039a063b",
   "metadata": {},
   "outputs": [],
   "source": [
    " "
   ]
  },
  {
   "cell_type": "code",
   "execution_count": null,
   "id": "e88bb9bb",
   "metadata": {},
   "outputs": [],
   "source": [
    "\n",
    " "
   ]
  },
  {
   "cell_type": "code",
   "execution_count": null,
   "id": "49514eb4",
   "metadata": {},
   "outputs": [],
   "source": [
    " "
   ]
  }
 ],
 "metadata": {
  "kernelspec": {
   "display_name": "Python 3 (ipykernel)",
   "language": "python",
   "name": "python3"
  },
  "language_info": {
   "codemirror_mode": {
    "name": "ipython",
    "version": 3
   },
   "file_extension": ".py",
   "mimetype": "text/x-python",
   "name": "python",
   "nbconvert_exporter": "python",
   "pygments_lexer": "ipython3",
   "version": "3.9.7"
  }
 },
 "nbformat": 4,
 "nbformat_minor": 5
}
